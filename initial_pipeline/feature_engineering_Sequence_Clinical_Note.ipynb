{
 "cells": [
  {
   "cell_type": "code",
   "execution_count": 6,
   "metadata": {
    "scrolled": false
   },
   "outputs": [
    {
     "data": {
      "text/plain": [
       "'\\nscope: feature engineering for i2b2 data set\\nlast modified: 9/4/19\\nauthor: andrew malinow\\nto-do\\n-fix blood pressure\\n-finish vitals (temp, respitory)\\n-have Jason create new columns for entities\\n-Jason to double-check/revise as needed LOS calculation\\n- word2vec on large text columns\\n'"
      ]
     },
     "execution_count": 6,
     "metadata": {},
     "output_type": "execute_result"
    }
   ],
   "source": [
    "\"\"\"\n",
    "create admission_related,discharge_relateed and deceased_flag fields from unstructured note field\n",
    "input: record_text\n",
    "output: record_text, admission_related, discharge_related, deceased_flag\n",
    "\n",
    "last modified: 1-22-20\n",
    "author: andrew malinow\n",
    "\"\"\""
   ]
  },
  {
   "cell_type": "code",
   "execution_count": 19,
   "metadata": {},
   "outputs": [
    {
     "name": "stdout",
     "output_type": "stream",
     "text": [
      "Collecting nltk\n",
      "\u001b[?25l  Downloading https://files.pythonhosted.org/packages/f6/1d/d925cfb4f324ede997f6d47bea4d9babba51b49e87a767c170b77005889d/nltk-3.4.5.zip (1.5MB)\n",
      "\u001b[K     |################################| 1.5MB 4.1MB/s eta 0:00:01\n",
      "\u001b[?25hRequirement already satisfied: six in /conda/envs/rapids/lib/python3.6/site-packages (from nltk) (1.12.0)\n",
      "Building wheels for collected packages: nltk\n",
      "  Building wheel for nltk (setup.py) ... \u001b[?25ldone\n",
      "\u001b[?25h  Stored in directory: /root/.cache/pip/wheels/96/86/f6/68ab24c23f207c0077381a5e3904b2815136b879538a24b483\n",
      "Successfully built nltk\n",
      "Installing collected packages: nltk\n",
      "Successfully installed nltk-3.4.5\n"
     ]
    }
   ],
   "source": [
    "\"\"\"\n",
    "install dependencies\n",
    "\"\"\"\n",
    "#pip install nltk"
   ]
  },
  {
   "cell_type": "code",
   "execution_count": 3,
   "metadata": {},
   "outputs": [],
   "source": [
    "\"\"\"\n",
    "Imports\n",
    "\"\"\"\n",
    "import pandas as pd\n",
    "import nltk\n",
    "from nltk import sent_tokenize, word_tokenize\n",
    "import re"
   ]
  },
  {
   "cell_type": "code",
   "execution_count": 45,
   "metadata": {},
   "outputs": [],
   "source": [
    "\"\"\"\n",
    "global variables\n",
    "\"\"\"\n",
    "infile='jason_mimc-554_new.csv'\n",
    "data=pd.read_csv(infile, nrows=100)\n",
    "record_text=data['record_text'].to_json()\n",
    "df=pd.DataFrame()"
   ]
  },
  {
   "cell_type": "code",
   "execution_count": 46,
   "metadata": {},
   "outputs": [],
   "source": [
    "\"\"\"\n",
    "pre-processing Pandas: tokenize text\n",
    "\"\"\"\n",
    "tokens_in_record=[]\n",
    "for record in data['record_text']:\n",
    "    tokens=sent_tokenize(str(record))\n",
    "    tokens_in_record.append(tokens)\n",
    "df['tokens_in_record']=tokens_in_record"
   ]
  },
  {
   "cell_type": "code",
   "execution_count": 47,
   "metadata": {},
   "outputs": [],
   "source": [
    "\"\"\"\n",
    "feature engineering: pull out admission and discharge details\n",
    "\"\"\"\n",
    "admission_related=[]\n",
    "discharge_related=[]\n",
    "deceased_flag=[]\n",
    "\n",
    "for record in data['record_text']:\n",
    "    sentences=sent_tokenize(str(record))\n",
    "    admit=[]\n",
    "    discharge=[]\n",
    "    deceased=[]\n",
    "    for line in sentences:\n",
    "        if re.findall(r'admitted',str(line)):\n",
    "            admit.append(line)\n",
    "            break       \n",
    "        elif re.findall(r'discharge',str(line)):\n",
    "            discharge.append(line)\n",
    "            break\n",
    "        elif re.findall(r'patient died',str(line)):\n",
    "            deceased.append(1)\n",
    "            break   \n",
    "        else:\n",
    "            continue\n",
    "    admission_related.append(admit)\n",
    "    discharge_related.append(discharge)\n",
    "    deceased_flag.append(deceased)\n",
    "df['admission_related']=admission_related\n",
    "df['discharge_related']=discharge_related\n",
    "df['deceased_flag']=deceased_flag\n",
    "df.to_json('fe_clinical_note_sequenced.json')"
   ]
  },
  {
   "cell_type": "code",
   "execution_count": null,
   "metadata": {},
   "outputs": [],
   "source": []
  }
 ],
 "metadata": {
  "kernelspec": {
   "display_name": "Python 3",
   "language": "python",
   "name": "python3"
  },
  "language_info": {
   "codemirror_mode": {
    "name": "ipython",
    "version": 3
   },
   "file_extension": ".py",
   "mimetype": "text/x-python",
   "name": "python",
   "nbconvert_exporter": "python",
   "pygments_lexer": "ipython3",
   "version": "3.7.3"
  }
 },
 "nbformat": 4,
 "nbformat_minor": 4
}
