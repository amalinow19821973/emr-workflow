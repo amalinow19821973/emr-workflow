{
 "cells": [
  {
   "cell_type": "code",
   "execution_count": null,
   "metadata": {},
   "outputs": [],
   "source": [
    "\"\"\"\n",
    "loads word2vec model and creates binary features from search terms found that are related to infection\n",
    "--need to add capability for returning similar terms for multiple key words- e.g., model.most_similar ('infection, infected')\n",
    "input: index (record_id), unstructured medical note (note_text)\n",
    "output: idndex (record_id),one hot-encoding representation of all_found_key_terms_infection\n",
    "last update: 2.4.20\n",
    "author: Andrew Malinow, PhD\n",
    "\"\"\""
   ]
  },
  {
   "cell_type": "code",
   "execution_count": 1,
   "metadata": {},
   "outputs": [
    {
     "name": "stderr",
     "output_type": "stream",
     "text": [
      "C:\\Users\\amalinow\\AppData\\Local\\Continuum\\anaconda3\\lib\\site-packages\\gensim\\utils.py:1197: UserWarning: detected Windows; aliasing chunkize to chunkize_serial\n",
      "  warnings.warn(\"detected Windows; aliasing chunkize to chunkize_serial\")\n"
     ]
    }
   ],
   "source": [
    "\"\"\"\n",
    "imports\n",
    "\"\"\"\n",
    "import requests\n",
    "import re\n",
    "import pandas as pd\n",
    "import json\n",
    "import gensim\n",
    "import sklearn\n",
    "from sklearn.preprocessing import MultiLabelBinarizer"
   ]
  },
  {
   "cell_type": "code",
   "execution_count": 214,
   "metadata": {},
   "outputs": [],
   "source": [
    "\"\"\"\n",
    "retrieve data and store in dataframe\n",
    "this needs to be updated to retrieve all data\n",
    "\"\"\"\n",
    "resp = requests.get('http://10.32.22.16:56733/noteevents/50000')\n",
    "if resp.status_code != 200:\n",
    "        raise ApiError('GET /noteevents/<size> {}'.format(resp.status_code))\n",
    "data=resp.json()['json_notes']\n",
    "df=pd.DataFrame(data)"
   ]
  },
  {
   "cell_type": "code",
   "execution_count": 200,
   "metadata": {},
   "outputs": [],
   "source": [
    "\"\"\"\n",
    "global variables\n",
    "should also write infected_key_words to a table/file for future use since we \n",
    "are currently only using the term and not the associated cosine similarity score for anything\n",
    "\"\"\"\n",
    "#loads word2vec model created in previous pre_processing step\n",
    "model_file=\"Word2VecModel.bin\"\n",
    "model=gensim.models.KeyedVectors.load_word2vec_format(model_file, binary=True, encoding='latin1')\n",
    "mlb = MultiLabelBinarizer()"
   ]
  },
  {
   "cell_type": "code",
   "execution_count": 216,
   "metadata": {},
   "outputs": [],
   "source": [
    "\"\"\"\n",
    "use word2vec to find similar terms\n",
    "simalar terms are returned as a list of tuples: term, value [cosine of term and related_term]\n",
    "append just the term to a new list\n",
    "\"\"\"\n",
    "infected_key_words=model.most_similar('infection', topn=10)\n",
    "key_words=[]\n",
    "for label, value in infected_key_words:\n",
    "    key_words.append(label)\n"
   ]
  },
  {
   "cell_type": "code",
   "execution_count": 217,
   "metadata": {},
   "outputs": [],
   "source": [
    "\"\"\"\n",
    "iterate through data and look for key words in notes field\n",
    "append found words to new column, all_found_key_terms_infection\n",
    "\"\"\"\n",
    "all_found_key_terms_infection=[]\n",
    "for i, row in df.iterrows():\n",
    "    found_r=[]\n",
    "    note=row['text']\n",
    "    for word in key_words:\n",
    "        if str(word) in str(note):\n",
    "            found_r.append(word)\n",
    "            continue\n",
    "        else:\n",
    "            found_r.append('none')\n",
    "            continue\n",
    "    \n",
    "    all_found_key_terms_infection.append(found_r)\n",
    "    continue\n",
    "#print(all_found_key_terms_infection)\n",
    "df['all_found_key_terms_infection']=all_found_key_terms_infection"
   ]
  },
  {
   "cell_type": "code",
   "execution_count": 218,
   "metadata": {},
   "outputs": [],
   "source": [
    "\"\"\"\n",
    "one-hot-encode the all_found_key_terms_infection column\n",
    "drop the column 'none'\n",
    "\"\"\"\n",
    "terms=(df['all_found_key_terms_infection'])\n",
    "df = (pd.DataFrame(mlb.fit_transform(terms), columns=mlb.classes_,index=df.index))\n",
    "del df['none']\n"
   ]
  },
  {
   "cell_type": "code",
   "execution_count": 219,
   "metadata": {},
   "outputs": [],
   "source": [
    "\"\"\"\n",
    "write one-hot encoded variables and index to file/table\n",
    "write term and cosine similarity value tuples to file/table\n",
    "\"\"\"\n",
    "df1=pd.DataFrame()\n",
    "df.to_json('tpot_prep-infection_key_words_one_hot_encoded.json')\n",
    "df1['infected_key_words']=infected_key_words\n",
    "df1.to_json('infected_similarity_terms_cosine_values.json')"
   ]
  }
 ],
 "metadata": {
  "kernelspec": {
   "display_name": "Python 3",
   "language": "python",
   "name": "python3"
  },
  "language_info": {
   "codemirror_mode": {
    "name": "ipython",
    "version": 3
   },
   "file_extension": ".py",
   "mimetype": "text/x-python",
   "name": "python",
   "nbconvert_exporter": "python",
   "pygments_lexer": "ipython3",
   "version": "3.7.3"
  }
 },
 "nbformat": 4,
 "nbformat_minor": 2
}
