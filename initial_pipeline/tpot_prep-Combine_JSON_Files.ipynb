{
 "cells": [
  {
   "cell_type": "code",
   "execution_count": null,
   "metadata": {},
   "outputs": [],
   "source": [
    "\"\"\"\n",
    "combines output from pre-processing and feature-engineering steps into a single output that is used\n",
    "as the input for TPOT\n",
    "\n",
    "input: multiple json files with the same index\n",
    "output:\n",
    "\n",
    "last updated: 2.4.20\n",
    "author: Andrew Malinow, PhD\n",
    "\"\"\""
   ]
  },
  {
   "cell_type": "code",
   "execution_count": 7,
   "metadata": {},
   "outputs": [],
   "source": [
    "\"\"\"\n",
    "imports\n",
    "\"\"\"\n",
    "import json\n",
    "import pandas as pd\n",
    "import glob"
   ]
  },
  {
   "cell_type": "code",
   "execution_count": 13,
   "metadata": {},
   "outputs": [
    {
     "name": "stdout",
     "output_type": "stream",
     "text": [
      "['readmission_similarity_terms_cosine_values.json', 'tpot_prep-diagnosis_names_one_hot_encoded.json', 'tpot_prep-infection_key_words_one_hot_encoded.json', 'tpot_prep-medication_names_one_hot_encoded.json', 'tpot_prep-readmission_key_words_one_hot_encoded.json']\n"
     ]
    }
   ],
   "source": [
    "\"\"\"\n",
    "read all json files and add to list\n",
    "nb: the following code reads all json located in the directory that this script is in\n",
    "\"\"\"\n",
    "result = []\n",
    "read_files = glob.glob(\"*.json\")"
   ]
  },
  {
   "cell_type": "code",
   "execution_count": 18,
   "metadata": {},
   "outputs": [],
   "source": [
    "\"\"\"\n",
    "merge all json into one file\n",
    "\"\"\"\n",
    "with open(\"final_merged_file_for_tpot.json\", \"wb\") as outfile:\n",
    "     for f in read_files:\n",
    "          with open(f, \"rb\") as infile:\n",
    "               outfile.write(infile.read())"
   ]
  }
 ],
 "metadata": {
  "kernelspec": {
   "display_name": "Python 3",
   "language": "python",
   "name": "python3"
  },
  "language_info": {
   "codemirror_mode": {
    "name": "ipython",
    "version": 3
   },
   "file_extension": ".py",
   "mimetype": "text/x-python",
   "name": "python",
   "nbconvert_exporter": "python",
   "pygments_lexer": "ipython3",
   "version": "3.7.3"
  }
 },
 "nbformat": 4,
 "nbformat_minor": 2
}
