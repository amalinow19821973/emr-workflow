{
 "cells": [
  {
   "cell_type": "code",
   "execution_count": null,
   "metadata": {},
   "outputs": [],
   "source": [
    "\"\"\"\n",
    "Tokenize unstructured EMR records to support downstream model creation (for feature engineering)\n",
    "input: raw EMR note data\n",
    "output: tokenized text (tokens.json)\n",
    "Last updated: 1.26.20\n",
    "Author: Andrew Malinow\n",
    "\"\"\""
   ]
  },
  {
   "cell_type": "code",
   "execution_count": 35,
   "metadata": {},
   "outputs": [],
   "source": [
    "\"\"\"\n",
    "imports\n",
    "\"\"\"\n",
    "import re\n",
    "import requests\n",
    "import json\n",
    "from nltk import word_tokenize\n",
    "import nltk"
   ]
  },
  {
   "cell_type": "code",
   "execution_count": 32,
   "metadata": {},
   "outputs": [
    {
     "name": "stderr",
     "output_type": "stream",
     "text": [
      "[nltk_data] Downloading package stopwords to\n",
      "[nltk_data]     C:\\Users\\amalinow\\AppData\\Roaming\\nltk_data...\n",
      "[nltk_data]   Package stopwords is already up-to-date!\n",
      "[nltk_data] Downloading package punkt to\n",
      "[nltk_data]     C:\\Users\\amalinow\\AppData\\Roaming\\nltk_data...\n",
      "[nltk_data]   Package punkt is already up-to-date!\n"
     ]
    },
    {
     "data": {
      "text/plain": [
       "True"
      ]
     },
     "execution_count": 32,
     "metadata": {},
     "output_type": "execute_result"
    }
   ],
   "source": [
    "\"\"\"\n",
    "nltk dependencies\n",
    "\"\"\"\n",
    "nltk.download('stopwords')\n",
    "nltk.download('punkt')"
   ]
  },
  {
   "cell_type": "code",
   "execution_count": 21,
   "metadata": {},
   "outputs": [],
   "source": [
    "\"\"\"\n",
    "global variables\n",
    "\"\"\"\n",
    "en_stop = set(nltk.corpus.stopwords.words('english'))\n",
    "data = requests.get('http://10.32.22.16:56733/noteevents/55500')\n",
    "if data.status_code != 200:\n",
    "        raise ApiError('GET /noteevents/<size> {}'.format(data.status_code))\n",
    "json_notes=data.json()['json_notes']\n",
    "notes_text = [note['text'] for note in json_notes]"
   ]
  },
  {
   "cell_type": "code",
   "execution_count": 36,
   "metadata": {},
   "outputs": [],
   "source": [
    "\"\"\"\n",
    "Prep data, create model\n",
    "need to investigate different parameter settings and different Models (FastText, other)\n",
    "\"\"\"\n",
    "text=re.sub(r'([^\\s\\w]|_)+', '', str(notes_text))\n",
    "text=re.sub('\\n','',str(text))\n",
    "sentences=word_tokenize(str(text))\n",
    "sentences=[token for token in sentences if len(token)>2]\n",
    "sentences=[token for token in sentences if token not in en_stop]"
   ]
  },
  {
   "cell_type": "code",
   "execution_count": 38,
   "metadata": {},
   "outputs": [],
   "source": [
    "\"\"\"\n",
    "write tokens to file/db table\n",
    "\"\"\"\n",
    "with open('tokens.json', 'w') as f:\n",
    "    json.dump(sentences, f)"
   ]
  },
  {
   "cell_type": "code",
   "execution_count": null,
   "metadata": {},
   "outputs": [],
   "source": []
  }
 ],
 "metadata": {
  "kernelspec": {
   "display_name": "Python 3",
   "language": "python",
   "name": "python3"
  },
  "language_info": {
   "codemirror_mode": {
    "name": "ipython",
    "version": 3
   },
   "file_extension": ".py",
   "mimetype": "text/x-python",
   "name": "python",
   "nbconvert_exporter": "python",
   "pygments_lexer": "ipython3",
   "version": "3.7.3"
  }
 },
 "nbformat": 4,
 "nbformat_minor": 2
}
