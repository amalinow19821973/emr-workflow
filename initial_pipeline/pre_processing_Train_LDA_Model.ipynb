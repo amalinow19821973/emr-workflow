{
 "cells": [
  {
   "cell_type": "code",
   "execution_count": null,
   "metadata": {},
   "outputs": [],
   "source": [
    "\"\"\"\n",
    "Tokenize raw EMR data to support downstream feature engineering tasks\n",
    "input: EMR_Tokens.json (tokenized EMR notes)\n",
    "output: LDA Model, List of Topics\n",
    "Last updated: 1.24.20\n",
    "Author: Andrew Malinow\n",
    "\"\"\""
   ]
  },
  {
   "cell_type": "code",
   "execution_count": 36,
   "metadata": {},
   "outputs": [],
   "source": [
    "# -*- coding: utf-8 -*-\n",
    "\"\"\"\n",
    "Created on Wed Mar 13 10:10:14 2019\n",
    "https://shuaiw.github.io/2016/12/22/topic-modeling-and-tsne-visualzation.html\n",
    "@author: Andrew\n",
    "\"\"\"\n",
    "import pandas as pd\n",
    "import json\n",
    "import pyLDAvis.gensim\n",
    "import pickle\n",
    "import gensim \n",
    "from IPython.display import display, HTML\n",
    "from gensim.test.utils import datapath\n",
    "from gensim.models import FastText"
   ]
  },
  {
   "cell_type": "code",
   "execution_count": 46,
   "metadata": {},
   "outputs": [
    {
     "name": "stdout",
     "output_type": "stream",
     "text": [
      "91692312\n"
     ]
    }
   ],
   "source": [
    "\"\"\"\n",
    "global variables\n",
    "\"\"\"\n",
    "infile=r'EMR_Tokens'\n",
    "en_stop = set(nltk.corpus.stopwords.words('english'))\n",
    "with open(infile) as f:\n",
    "    data = f.readlines()\n",
    "data = [x.strip() for x in data] \n",
    "print (len(data))"
   ]
  },
  {
   "cell_type": "code",
   "execution_count": null,
   "metadata": {},
   "outputs": [],
   "source": [
    "\"\"\"\n",
    "tokenize data\n",
    "\"\"\"\n",
    "text_data = []\n",
    "tokens=prepare_text_for_lda(str(data))\n",
    "text_data.append(tokens)"
   ]
  },
  {
   "cell_type": "code",
   "execution_count": null,
   "metadata": {},
   "outputs": [],
   "source": [
    "\n",
    "\"\"\"\n",
    "create dictionary and corpus and save for future use\n",
    "\"\"\"\n",
    "dictionary = gensim.corpora.Dictionary(text_data)\n",
    "\n",
    "#create corpus \n",
    "corpus = [dictionary.doc2bow(text) for text in text_data]\n",
    "#save corpus and dictionary\n",
    "pickle.dump(corpus, open('corpus10.pkl', 'wb'))\n",
    "dictionary.save('default_dictionary.gensim')\n",
    "\n",
    "\"\"\"\n",
    "train and save an LDA model\n",
    "use NUM_TOPICS variable to determine the number of topics for the model, and num_words parameter for how much to show\n",
    "\"\"\"\n",
    "NUM_TOPICS = 10\n",
    "ft_model = FastText((text_data), size=100, window=5, min_count=150, workers=4, min_n=3, max_n=10)\n",
    "print(ft_model.wv.most_similar('lamictal'))\n",
    "ft_model.saveModel('fastTextModel.gensim')\n",
    "\n",
    "\"\"\"\n",
    "pyLDAvis is designed to help users interpret the topics in a topic model\n",
    "that has been fit to a corpus of text data. The package extracts information\n",
    "from a fitted LDA topic model to inform an interactive web-based visualization.\n",
    "Visualizing 10 topics:\n",
    "\"\"\"\n",
    "#load dictionary, corpus and model created above\n",
    "dictionary = gensim.corpora.Dictionary.load('dictionary-med-tagged-complete.gensim')\n",
    "corpus = pickle.load(open('corpus10.pkl', 'rb'))\n",
    "lda = gensim.models.ldamodel.LdaModel.load('model_10-med-tagged-complete.gensim')\n",
    "\n",
    "\n",
    "lda_display = pyLDAvis.gensim.prepare(lda, corpus, dictionary, sort_topics=False)\n",
    "pyLDAvis.display(lda_display)"
   ]
  }
 ],
 "metadata": {
  "kernelspec": {
   "display_name": "Python 3",
   "language": "python",
   "name": "python3"
  },
  "language_info": {
   "codemirror_mode": {
    "name": "ipython",
    "version": 3
   },
   "file_extension": ".py",
   "mimetype": "text/x-python",
   "name": "python",
   "nbconvert_exporter": "python",
   "pygments_lexer": "ipython3",
   "version": "3.7.3"
  }
 },
 "nbformat": 4,
 "nbformat_minor": 2
}
