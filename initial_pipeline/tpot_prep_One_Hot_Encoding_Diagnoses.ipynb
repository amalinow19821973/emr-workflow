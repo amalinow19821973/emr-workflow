{
 "cells": [
  {
   "cell_type": "code",
   "execution_count": 40,
   "metadata": {},
   "outputs": [
    {
     "data": {
      "text/plain": [
       "\"\\ninput: [index],'drug_cleaned'\\noutput: [index], one_hot_endoded_medications(multiple)\\nlast modified: 11-20-19\\nauthor: andrew malinow\\n\""
      ]
     },
     "execution_count": 40,
     "metadata": {},
     "output_type": "execute_result"
    }
   ],
   "source": [
    "\"\"\"\n",
    "input: [index],'diagnosis'\n",
    "output: [index], one_hot_endoded_diagnoses(multiple)\n",
    "last modified: 1-23-20\n",
    "author: andrew malinow\n",
    "\"\"\""
   ]
  },
  {
   "cell_type": "code",
   "execution_count": 1,
   "metadata": {},
   "outputs": [
    {
     "data": {
      "text/plain": [
       "'\\ninstall dependencies\\n'"
      ]
     },
     "execution_count": 1,
     "metadata": {},
     "output_type": "execute_result"
    }
   ],
   "source": [
    "\"\"\"\n",
    "install dependencies\n",
    "\"\"\"\n",
    "#pip install sklearn\n",
    "#pip install pandas"
   ]
  },
  {
   "cell_type": "code",
   "execution_count": 1,
   "metadata": {},
   "outputs": [],
   "source": [
    "\"\"\"\n",
    "Imports\n",
    "\"\"\"\n",
    "import pandas as pd\n",
    "import sklearn\n",
    "from sklearn.preprocessing import MultiLabelBinarizer"
   ]
  },
  {
   "cell_type": "code",
   "execution_count": 7,
   "metadata": {},
   "outputs": [],
   "source": [
    "\"\"\"\n",
    "global variables\n",
    "\"\"\"\n",
    "infile='jason_mimc-554_new.csv'\n",
    "data=pd.read_csv(infile, nrows=100)\n",
    "mlb = MultiLabelBinarizer()"
   ]
  },
  {
   "cell_type": "code",
   "execution_count": 8,
   "metadata": {},
   "outputs": [
    {
     "name": "stdout",
     "output_type": "stream",
     "text": [
      "0                                                 [nan]\n",
      "1     ['ILLNESS', 'emphysema', 'nausea', 'vomiting',...\n",
      "2     ['Illness', 'hypoxemia', 'pain', 'pain', 'hypo...\n",
      "3     ['Illness', 'dyspnea', 'dyspnea', 'cough', 'pa...\n",
      "4     ['Illness', 'edema', 'edema', 'edema', 'edema'...\n",
      "5     ['Illness', 'headache', 'dysphagia', 'headache...\n",
      "6     ['Illness', 'fever', 'cough', 'pain', 'pain', ...\n",
      "7     ['Illness', 'headache', 'nausea', 'vomiting', ...\n",
      "8     ['Illness', 'seizures', 'edema', 'seizures', '...\n",
      "9     ['Illness', 'edema', 'seizures', 'edema', 'sei...\n",
      "10    ['pain', 'Illness', 'hyperlipidemia', 'pain', ...\n",
      "11    ['Diarrhea', 'Illness', 'diarrhea', 'proteinur...\n",
      "12    ['pain', 'ILLNESS', 'pain', 'pain', 'Glaucoma'...\n",
      "13    ['pain', 'ILLNESS', 'pain', 'pain', 'Glaucoma'...\n",
      "14    ['ILLNESS', 'thrombocytopenia', 'Pain', 'pain'...\n",
      "15    ['pain', 'Illness', 'osteomyelitis', 'pain', '...\n",
      "16    ['ILLNESS', 'headache', 'cellulitis', 'celluli...\n",
      "17    ['Illness', 'cardiomyopathy', 'hypotension', '...\n",
      "18    ['edema', 'Illness', 'pain', 'pain', 'pain', '...\n",
      "19    ['Illness', 'hypotension', 'pain', 'edema', 'p...\n",
      "20    ['Illness', 'pain', 'hypovolemia', 'dehydratio...\n",
      "21    ['Illness', 'pain', 'pain', 'edema', 'pain', '...\n",
      "22    ['Dyspnea', 'Illness', 'cough', 'nausea', 'vom...\n",
      "23    ['Illness', 'pain', 'fever', 'tachycardia', 'F...\n",
      "24    ['fever', 'Illness', 'cardiomyopathy', 'fever'...\n",
      "25    ['Illness', 'nausea', 'vomiting', 'pain', 'dia...\n",
      "26    ['Illness', 'hallucinations', 'cough', 'pain',...\n",
      "27        ['ILLNESS', 'osteomyelitis', 'Hyperglycemia']\n",
      "28    ['Illness', 'pain', 'pain', 'pain', 'pain', 'p...\n",
      "29    ['hypotension', 'Illness', 'thrombocytopenia',...\n",
      "                            ...                        \n",
      "70    ['Illness', 'cough', 'hypotension', 'pain', 'c...\n",
      "71    ['Illness', 'nausea', 'nausea', 'pain', 'Anemi...\n",
      "72    ['Illness', 'dyspnea', 'dyspnea', 'nausea', 'v...\n",
      "73    ['Illness', 'hyperlipidemia', 'Activity', 'pai...\n",
      "74    ['Illness', 'seizures', 'sepsis', 'shock', 'As...\n",
      "75    ['pain', 'Illness', 'hyperlipidemia', 'obesity...\n",
      "76    ['headache', 'Illness', 'headache', 'aphasia',...\n",
      "77    ['fever', 'Illness', 'fever', 'nausea', 'vomit...\n",
      "78    ['meningitis', 'bacteremia', 'Illness', 'weakn...\n",
      "79    ['Illness', 'activity', 'pain', 'edema', 'pneu...\n",
      "80    ['ILLNESS', 'pain', 'fibromyalgia', 'hypothyro...\n",
      "81    ['Illness', 'spondylosis', 'pain', 'weakness',...\n",
      "82       ['Illness', 'pain', 'atelectasis', 'weakness']\n",
      "83    ['cough', 'Illness', 'cough', 'cough', 'cough'...\n",
      "84    ['ILLNESS', 'dehydration', 'tachycardia', 'deh...\n",
      "85    ['Hypotension', 'Illness', 'diarrhea', 'pain',...\n",
      "86    ['Illness', 'hyperlipidemia', 'gout', 'pain', ...\n",
      "87    ['Illness', 'pain', 'hyperlipidemia', 'gout', ...\n",
      "88    ['ILLNESS', 'gout', 'cough', 'fever', 'cough',...\n",
      "89    ['ILLNESS', 'cough', 'dyspnea', 'tachycardia',...\n",
      "90    ['ILLNESS', 'cough', 'cough', 'headache', 'cou...\n",
      "91    ['ILLNESS', 'fatigue', 'fever', 'pain', 'diarr...\n",
      "92    ['ILLNESS', 'nausea', 'pain', 'vomiting', 'dia...\n",
      "93    ['ILLNESS', 'vomiting', 'nausea', 'vomiting', ...\n",
      "94                ['Illness', 'edema', 'fever', 'pain']\n",
      "95    ['Illness', 'edema', 'bradycardia', 'insomnia'...\n",
      "96    ['sepsis', 'Illness', 'fever', 'hypotension', ...\n",
      "97    ['pain', 'Illness', 'edema', 'pain', 'cough', ...\n",
      "98    ['Hypotension', 'Illness', 'hypotension', 'tac...\n",
      "99    ['hypotension', 'Illness', 'hypotension', 'hyp...\n",
      "Name: diagnosis, Length: 100, dtype: object\n"
     ]
    }
   ],
   "source": [
    "print(data['diagnosis'])"
   ]
  },
  {
   "cell_type": "code",
   "execution_count": 3,
   "metadata": {},
   "outputs": [],
   "source": [
    "#create boolean mask matched non NaNs values\n",
    "mask = data['diagnosis'].notnull()\n",
    "#filter by boolean indexing\n",
    "arr = mlb.fit_transform(data.loc[mask, 'diagnosis'].dropna().str.strip('[]').str.split(','))\n",
    "#create DataFrame and add missing (NaN)s index values\n",
    "data = (pd.DataFrame(arr, index=data.index[mask], columns=mlb.classes_)\n",
    "               .reindex(data.index, fill_value=0))\n",
    "data.to_json('tpot_prep-diagnosis_names_one_hot_encoded.json')"
   ]
  },
  {
   "cell_type": "code",
   "execution_count": 4,
   "metadata": {},
   "outputs": [
    {
     "name": "stdout",
     "output_type": "stream",
     "text": [
      "Index([' 'ANEMIA'', ' 'Acidosis'', ' 'Activity'', ' 'Alkalosis'', ' 'Anemia'',\n",
      "       ' 'Asthma'', ' 'Atelectasis'', ' 'Bacteremia'', ' 'CANDIDIASIS'',\n",
      "       ' 'CELLULITIS'',\n",
      "       ...\n",
      "       ''fever'', ''headache'', ''hypotension'', ''meningitis'', ''nausea'',\n",
      "       ''pain'', ''sepsis'', ''somnolence'', ''tachycardia'', 'nan'],\n",
      "      dtype='object', length=186)\n"
     ]
    }
   ],
   "source": [
    "print (data.columns)"
   ]
  },
  {
   "cell_type": "code",
   "execution_count": null,
   "metadata": {},
   "outputs": [],
   "source": []
  }
 ],
 "metadata": {
  "kernelspec": {
   "display_name": "Python 3",
   "language": "python",
   "name": "python3"
  },
  "language_info": {
   "codemirror_mode": {
    "name": "ipython",
    "version": 3
   },
   "file_extension": ".py",
   "mimetype": "text/x-python",
   "name": "python",
   "nbconvert_exporter": "python",
   "pygments_lexer": "ipython3",
   "version": "3.7.3"
  }
 },
 "nbformat": 4,
 "nbformat_minor": 4
}
