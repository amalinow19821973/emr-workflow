{
 "cells": [
  {
   "cell_type": "code",
   "execution_count": 40,
   "metadata": {},
   "outputs": [
    {
     "data": {
      "text/plain": [
       "\"\\ninput: [index],'drug_cleaned'\\noutput: [index], one_hot_endoded_medications(multiple)\\nlast modified: 11-20-19\\nauthor: andrew malinow\\n\""
      ]
     },
     "execution_count": 40,
     "metadata": {},
     "output_type": "execute_result"
    }
   ],
   "source": [
    "\"\"\"\n",
    "input: [index],'drug_cleaned'\n",
    "output: [index], one_hot_endoded_medications(multiple)\n",
    "last modified: 1-23-20\n",
    "author: andrew malinow\n",
    "\"\"\""
   ]
  },
  {
   "cell_type": "code",
   "execution_count": 1,
   "metadata": {},
   "outputs": [
    {
     "data": {
      "text/plain": [
       "'\\ninstall dependencies\\n'"
      ]
     },
     "execution_count": 1,
     "metadata": {},
     "output_type": "execute_result"
    }
   ],
   "source": [
    "\"\"\"\n",
    "install dependencies\n",
    "\"\"\"\n",
    "#pip install sklearn\n",
    "#pip install pandas"
   ]
  },
  {
   "cell_type": "code",
   "execution_count": 26,
   "metadata": {},
   "outputs": [],
   "source": [
    "\"\"\"\n",
    "Imports\n",
    "\"\"\"\n",
    "import pandas as pd\n",
    "import sklearn\n",
    "from sklearn.preprocessing import MultiLabelBinarizer"
   ]
  },
  {
   "cell_type": "code",
   "execution_count": 38,
   "metadata": {},
   "outputs": [],
   "source": [
    "\"\"\"\n",
    "global variables\n",
    "\"\"\"\n",
    "infile='jason_mimc-554_new.csv'\n",
    "data=pd.read_csv(infile, nrows=100)\n",
    "mlb = MultiLabelBinarizer()"
   ]
  },
  {
   "cell_type": "code",
   "execution_count": 39,
   "metadata": {},
   "outputs": [],
   "source": [
    "#create boolean mask matched non NaNs values\n",
    "mask = data['drug_cleaned'].notnull()\n",
    "#filter by boolean indexing\n",
    "arr = mlb.fit_transform(data.loc[mask, 'drug_cleaned'].dropna().str.strip('[]').str.split(','))\n",
    "#create DataFrame and add missing (NaN)s index values\n",
    "data = (pd.DataFrame(arr, index=data.index[mask], columns=mlb.classes_)\n",
    "               .reindex(data.index, fill_value=0))\n",
    "data.to_json('tpot_prep-medication_names_one_hot_encoded.json')"
   ]
  },
  {
   "cell_type": "code",
   "execution_count": null,
   "metadata": {},
   "outputs": [],
   "source": []
  }
 ],
 "metadata": {
  "kernelspec": {
   "display_name": "Python 3",
   "language": "python",
   "name": "python3"
  },
  "language_info": {
   "codemirror_mode": {
    "name": "ipython",
    "version": 3
   },
   "file_extension": ".py",
   "mimetype": "text/x-python",
   "name": "python",
   "nbconvert_exporter": "python",
   "pygments_lexer": "ipython3",
   "version": "3.7.3"
  }
 },
 "nbformat": 4,
 "nbformat_minor": 4
}
