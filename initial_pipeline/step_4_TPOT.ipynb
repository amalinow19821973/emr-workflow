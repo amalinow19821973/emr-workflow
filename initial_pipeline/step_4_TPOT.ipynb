{
 "cells": [
  {
   "cell_type": "code",
   "execution_count": 4,
   "metadata": {},
   "outputs": [
    {
     "data": {
      "text/plain": [
       "'\\nTPOT with word2vec/tensorflow\\nhttps://towardsdatascience.com/learn-word2vec-by-implementing-it-in-tensorflow-45641adaf2ac\\nhttps://github.com/Madhu009/Deep-math-machine-learning.ai/blob/master/NLP/Word2Vec-largedata.ipynb\\n'"
      ]
     },
     "execution_count": 4,
     "metadata": {},
     "output_type": "execute_result"
    }
   ],
   "source": [
    "\"\"\"\n",
    "Runs TPOT\n",
    "input: TPOT input file (contains one-hot encoded and numeric variables, and a target)\n",
    "output: model file (python script)\n",
    "last updated: 2.5.20\n",
    "author: Andrew Malinow, PhD\n",
    "\"\"\""
   ]
  },
  {
   "cell_type": "code",
   "execution_count": 1,
   "metadata": {},
   "outputs": [
    {
     "name": "stdout",
     "output_type": "stream",
     "text": [
      "Requirement already satisfied: tpot in /conda/envs/rapids/lib/python3.6/site-packages (0.11.0)\n",
      "Requirement already satisfied: stopit>=1.1.1 in /conda/envs/rapids/lib/python3.6/site-packages (from tpot) (1.1.2)\n",
      "Requirement already satisfied: tqdm>=4.36.1 in /conda/envs/rapids/lib/python3.6/site-packages (from tpot) (4.38.0)\n",
      "Requirement already satisfied: numpy>=1.16.3 in /conda/envs/rapids/lib/python3.6/site-packages (from tpot) (1.17.4)\n",
      "Requirement already satisfied: scipy>=1.3.1 in /conda/envs/rapids/lib/python3.6/site-packages (from tpot) (1.3.2)\n",
      "Requirement already satisfied: deap>=1.2 in /conda/envs/rapids/lib/python3.6/site-packages (from tpot) (1.3.0)\n",
      "Requirement already satisfied: update-checker>=0.16 in /conda/envs/rapids/lib/python3.6/site-packages (from tpot) (0.16)\n",
      "Requirement already satisfied: joblib>=0.13.2 in /conda/envs/rapids/lib/python3.6/site-packages (from tpot) (0.13.2)\n",
      "Requirement already satisfied: pandas>=0.24.2 in /conda/envs/rapids/lib/python3.6/site-packages (from tpot) (0.25.3)\n",
      "Requirement already satisfied: scikit-learn>=0.21.0 in /conda/envs/rapids/lib/python3.6/site-packages (from tpot) (0.21.2)\n",
      "Requirement already satisfied: requests>=2.3.0 in /conda/envs/rapids/lib/python3.6/site-packages (from update-checker>=0.16->tpot) (2.22.0)\n",
      "Requirement already satisfied: python-dateutil>=2.6.1 in /conda/envs/rapids/lib/python3.6/site-packages (from pandas>=0.24.2->tpot) (2.8.0)\n",
      "Requirement already satisfied: pytz>=2017.2 in /conda/envs/rapids/lib/python3.6/site-packages (from pandas>=0.24.2->tpot) (2019.1)\n",
      "Requirement already satisfied: idna<2.9,>=2.5 in /conda/envs/rapids/lib/python3.6/site-packages (from requests>=2.3.0->update-checker>=0.16->tpot) (2.8)\n",
      "Requirement already satisfied: certifi>=2017.4.17 in /conda/envs/rapids/lib/python3.6/site-packages (from requests>=2.3.0->update-checker>=0.16->tpot) (2019.6.16)\n",
      "Requirement already satisfied: chardet<3.1.0,>=3.0.2 in /conda/envs/rapids/lib/python3.6/site-packages (from requests>=2.3.0->update-checker>=0.16->tpot) (3.0.4)\n",
      "Requirement already satisfied: urllib3!=1.25.0,!=1.25.1,<1.26,>=1.21.1 in /conda/envs/rapids/lib/python3.6/site-packages (from requests>=2.3.0->update-checker>=0.16->tpot) (1.24.3)\n",
      "Requirement already satisfied: six>=1.5 in /conda/envs/rapids/lib/python3.6/site-packages (from python-dateutil>=2.6.1->pandas>=0.24.2->tpot) (1.12.0)\n"
     ]
    }
   ],
   "source": [
    "\"\"\"\n",
    "installs\n",
    "\"\"\"\n",
    "!pip install tpot"
   ]
  },
  {
   "cell_type": "code",
   "execution_count": 10,
   "metadata": {},
   "outputs": [],
   "source": [
    "\"\"\"\n",
    "imports\n",
    "\"\"\"\n",
    "from tpot import TPOTClassifier\n",
    "from sklearn.model_selection import train_test_split\n",
    "import numpy as np\n",
    "import pandas as pd\n",
    "import cudf\n",
    "from cudf import DataFrame"
   ]
  },
  {
   "cell_type": "code",
   "execution_count": 11,
   "metadata": {
    "scrolled": true
   },
   "outputs": [],
   "source": [
    "\"\"\"\n",
    "global variables\n",
    "nb. need to update input file location prior to deployment\n",
    "\"\"\"\n",
    "\n",
    "input_file='/rapids/notebooks/hostfs/Pipeline/TPOT_Input_File.csv'\n",
    "data=pd.read_csv(input_file,sep='|')"
   ]
  },
  {
   "cell_type": "code",
   "execution_count": 12,
   "metadata": {},
   "outputs": [],
   "source": [
    "\"\"\"\n",
    "define target variable from variable in source data (Length of Stay) then drop\n",
    "from dataframe in preparation for model fitting\n",
    "\"\"\"\n",
    "df=pd.DataFrame(data)\n",
    "target=df['target']\n",
    "df.drop('target',inplace=True, axis=1)"
   ]
  },
  {
   "cell_type": "code",
   "execution_count": 13,
   "metadata": {},
   "outputs": [],
   "source": [
    "##tpot\n",
    "X_train, X_test, y_train, y_test = train_test_split(df.astype(np.float64),\n",
    "    target, train_size=0.75, test_size=0.25)"
   ]
  },
  {
   "cell_type": "code",
   "execution_count": null,
   "metadata": {},
   "outputs": [
    {
     "name": "stdout",
     "output_type": "stream",
     "text": [
      "31 operators have been imported by TPOT.\n",
      "Imputing missing values in feature set\n"
     ]
    }
   ],
   "source": [
    "tpot = TPOTClassifier(generations=100, population_size=20, verbosity=3)\n",
    "tpot.fit(X_train, y_train)\n",
    "print(tpot.score(X_test, y_test))\n",
    "tpot.export('tpot_los_pipeline.py')"
   ]
  }
 ],
 "metadata": {
  "kernelspec": {
   "display_name": "Python 3",
   "language": "python",
   "name": "python3"
  },
  "language_info": {
   "codemirror_mode": {
    "name": "ipython",
    "version": 3
   },
   "file_extension": ".py",
   "mimetype": "text/x-python",
   "name": "python",
   "nbconvert_exporter": "python",
   "pygments_lexer": "ipython3",
   "version": "3.7.3"
  }
 },
 "nbformat": 4,
 "nbformat_minor": 4
}
