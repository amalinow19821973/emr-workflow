{
 "cells": [
  {
   "cell_type": "code",
   "execution_count": 513,
   "metadata": {},
   "outputs": [
    {
     "data": {
      "text/plain": [
       "'\\nAll-purpose Healthcare KPI Root-Cause Analysis Script\\nLast update: 09/24/19\\nAuthor:  Andrew Malinow, PhD\\n'"
      ]
     },
     "execution_count": 513,
     "metadata": {},
     "output_type": "execute_result"
    }
   ],
   "source": [
    "\"\"\"\n",
    "Reads tokenized EMR data and creates Word2Vec Model\n",
    "input: tokenized EMR data (tokens.json)\n",
    "output: word2vec model artifacts [saved to persistant volume]: corpora, dictionary, embeddings (.model file)\n",
    "Last update: 1/22/20\n",
    "Author:  Andrew Malinow, PhD\n",
    "\"\"\""
   ]
  },
  {
   "cell_type": "code",
   "execution_count": 1,
   "metadata": {},
   "outputs": [
    {
     "name": "stderr",
     "output_type": "stream",
     "text": [
      "C:\\Users\\amalinow\\AppData\\Local\\Continuum\\anaconda3\\lib\\site-packages\\gensim\\utils.py:1197: UserWarning: detected Windows; aliasing chunkize to chunkize_serial\n",
      "  warnings.warn(\"detected Windows; aliasing chunkize to chunkize_serial\")\n"
     ]
    }
   ],
   "source": [
    "\"\"\"\n",
    "Imports\n",
    "\"\"\"\n",
    "import requests\n",
    "import json\n",
    "import gensim\n",
    "from gensim.models import Word2Vec"
   ]
  },
  {
   "cell_type": "code",
   "execution_count": 2,
   "metadata": {},
   "outputs": [],
   "source": [
    "\"\"\"\n",
    "Global Variables\n",
    "\"\"\"\n",
    "resp = requests.get('http://10.32.22.16:56733/noteevents/55500')\n",
    "if resp.status_code != 200:\n",
    "        raise ApiError('GET /noteevents/<size> {}'.format(resp.status_code))\n",
    "json_notes=resp.json()['json_notes']\n",
    "notes_text = [note['text'] for note in json_notes]"
   ]
  },
  {
   "cell_type": "code",
   "execution_count": 3,
   "metadata": {},
   "outputs": [],
   "source": [
    "\"\"\"\n",
    "pre-processing for Word2Vec\n",
    "\"\"\"\n",
    "documents=[]\n",
    "for line in notes_text:\n",
    "    documents.append(gensim.utils.simple_preprocess (line))"
   ]
  },
  {
   "cell_type": "code",
   "execution_count": 4,
   "metadata": {},
   "outputs": [],
   "source": [
    "\"\"\"\n",
    "create word2vec model\n",
    "need to tune parameters\n",
    "\"\"\"\n",
    "model = Word2Vec(documents, min_count=2,workers=10)\n",
    "model.train(documents,total_examples=len(documents),epochs=10)\n",
    "word_vectors=model.wv\n",
    "vocabulary=model.wv.vocab  "
   ]
  },
  {
   "cell_type": "code",
   "execution_count": 7,
   "metadata": {},
   "outputs": [],
   "source": [
    "\"\"\"\n",
    "save model, and word vectors\n",
    "\"\"\"\n",
    "model.save('word2vec.model')\n",
    "model.wv.save_word2vec_format('word2vecKeyVectors.model',binary=True)"
   ]
  },
  {
   "cell_type": "code",
   "execution_count": 6,
   "metadata": {},
   "outputs": [],
   "source": [
    "sepsis_sim_words=model.wv.most_similar(\"infection\")\n",
    "readmit_sim_words=model.wv.most_similar(\"readmitted\")"
   ]
  },
  {
   "cell_type": "code",
   "execution_count": 18,
   "metadata": {},
   "outputs": [],
   "source": [
    "\"\"\"\n",
    "write out similar terms [\"sepsis\" and \"readmission\"] to separate files\n",
    "these terms will be turned into features- e.g., sepsis_term_1 (0/1/); sepsis_term_2 (0/1)\n",
    "\"\"\"\n",
    "with open('sepsis_related.json','w') as f:\n",
    "    json.dump(dict(sepsis_sim_words), f)\n",
    "\n",
    "with open('readmit_related.json','w') as a:\n",
    "    json.dump(dict(readmit_sim_words),a)"
   ]
  },
  {
   "cell_type": "code",
   "execution_count": null,
   "metadata": {},
   "outputs": [],
   "source": []
  }
 ],
 "metadata": {
  "kernelspec": {
   "display_name": "Python 3",
   "language": "python",
   "name": "python3"
  },
  "language_info": {
   "codemirror_mode": {
    "name": "ipython",
    "version": 3
   },
   "file_extension": ".py",
   "mimetype": "text/x-python",
   "name": "python",
   "nbconvert_exporter": "python",
   "pygments_lexer": "ipython3",
   "version": "3.7.3"
  }
 },
 "nbformat": 4,
 "nbformat_minor": 4
}
