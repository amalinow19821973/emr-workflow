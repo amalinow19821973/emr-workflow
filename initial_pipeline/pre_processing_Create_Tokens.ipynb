{
 "cells": [
  {
   "cell_type": "code",
   "execution_count": null,
   "metadata": {},
   "outputs": [],
   "source": [
    "\"\"\"\n",
    "Tokenize raw EMR data to support downstream feature engineering tasks\n",
    "input: raw EMR notes\n",
    "output: tokenized notes (json)\n",
    "Last updated: 1.24.20\n",
    "Author: Andrew Malinow\n",
    "\"\"\""
   ]
  },
  {
   "cell_type": "code",
   "execution_count": 36,
   "metadata": {},
   "outputs": [],
   "source": [
    "# -*- coding: utf-8 -*-\n",
    "\"\"\"\n",
    "imports\n",
    "\"\"\"\n",
    "import json\n",
    "import nltk\n",
    "from nltk.corpus import wordnet as wn\n",
    "from nltk import word_tokenize\n"
   ]
  },
  {
   "cell_type": "code",
   "execution_count": 46,
   "metadata": {},
   "outputs": [
    {
     "name": "stdout",
     "output_type": "stream",
     "text": [
      "91692312\n"
     ]
    }
   ],
   "source": [
    "\"\"\"\n",
    "global variables\n",
    "\"\"\"\n",
    "infile=r'C:\\Users\\amalinow\\Documents\\mimic-unstructured.txt'\n",
    "outputfile='EMR_Tokens.json'\n",
    "en_stop = set(nltk.corpus.stopwords.words('english'))\n",
    "with open(infile) as f:\n",
    "    data = f.readlines()\n",
    "data = [x.strip() for x in data] "
   ]
  },
  {
   "cell_type": "code",
   "execution_count": 47,
   "metadata": {},
   "outputs": [],
   "source": [
    "\"\"\"\n",
    "Data Prep Functions\n",
    "prepare text for topic modeling\n",
    "\"\"\"\n",
    "def prepare_text_for_lda(text):\n",
    "    tokens = word_tokenize(text)\n",
    "    tokens = [token for token in tokens if len(token) > 3]\n",
    "    tokens = [token for token in tokens if token not in en_stop]\n",
    "    return tokens\n"
   ]
  },
  {
   "cell_type": "code",
   "execution_count": null,
   "metadata": {},
   "outputs": [],
   "source": [
    "\"\"\"\n",
    "tokenize data\n",
    "\"\"\"\n",
    "text_data = []\n",
    "tokens=prepare_text_for_lda(str(data))\n",
    "text_data.append(tokens)"
   ]
  },
  {
   "cell_type": "code",
   "execution_count": null,
   "metadata": {},
   "outputs": [],
   "source": [
    "outputfile='EMR_Tokens.json'"
   ]
  },
  {
   "cell_type": "code",
   "execution_count": null,
   "metadata": {},
   "outputs": [],
   "source": [
    "\"\"\"\n",
    "write tokens to json\n",
    "\"\"\"\n",
    "with open (outputfile, 'wb') as f:\n",
    "    json.dumps(text_data, f)"
   ]
  },
  {
   "cell_type": "code",
   "execution_count": null,
   "metadata": {},
   "outputs": [],
   "source": []
  }
 ],
 "metadata": {
  "kernelspec": {
   "display_name": "Python 3",
   "language": "python",
   "name": "python3"
  },
  "language_info": {
   "codemirror_mode": {
    "name": "ipython",
    "version": 3
   },
   "file_extension": ".py",
   "mimetype": "text/x-python",
   "name": "python",
   "nbconvert_exporter": "python",
   "pygments_lexer": "ipython3",
   "version": "3.7.3"
  }
 },
 "nbformat": 4,
 "nbformat_minor": 2
}
