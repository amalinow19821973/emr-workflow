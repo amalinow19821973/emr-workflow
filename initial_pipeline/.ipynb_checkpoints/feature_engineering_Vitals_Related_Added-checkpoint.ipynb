{
 "cells": [
  {
   "cell_type": "code",
   "execution_count": 6,
   "metadata": {
    "scrolled": false
   },
   "outputs": [
    {
     "data": {
      "text/plain": [
       "'\\nscope: feature engineering for i2b2 data set\\nlast modified: 9/4/19\\nauthor: andrew malinow\\nto-do\\n-fix blood pressure\\n-finish vitals (temp, respitory)\\n-have Jason create new columns for entities\\n-Jason to double-check/revise as needed LOS calculation\\n- word2vec on large text columns\\n'"
      ]
     },
     "execution_count": 6,
     "metadata": {},
     "output_type": "execute_result"
    }
   ],
   "source": [
    "\"\"\"\n",
    "create vitals_related text field and vitals_related_ngrams from unstructured clinical note field\n",
    "input: record_text\n",
    "output: [index], record_text, vitals_related, vitals_related_ngrams\n",
    "\n",
    "last modified: 1-23-20\n",
    "author: andrew malinow\n",
    "\"\"\""
   ]
  },
  {
   "cell_type": "code",
   "execution_count": 19,
   "metadata": {
    "scrolled": true
   },
   "outputs": [
    {
     "name": "stdout",
     "output_type": "stream",
     "text": [
      "Collecting nltk\n",
      "\u001b[?25l  Downloading https://files.pythonhosted.org/packages/f6/1d/d925cfb4f324ede997f6d47bea4d9babba51b49e87a767c170b77005889d/nltk-3.4.5.zip (1.5MB)\n",
      "\u001b[K     |################################| 1.5MB 4.1MB/s eta 0:00:01\n",
      "\u001b[?25hRequirement already satisfied: six in /conda/envs/rapids/lib/python3.6/site-packages (from nltk) (1.12.0)\n",
      "Building wheels for collected packages: nltk\n",
      "  Building wheel for nltk (setup.py) ... \u001b[?25ldone\n",
      "\u001b[?25h  Stored in directory: /root/.cache/pip/wheels/96/86/f6/68ab24c23f207c0077381a5e3904b2815136b879538a24b483\n",
      "Successfully built nltk\n",
      "Installing collected packages: nltk\n",
      "Successfully installed nltk-3.4.5\n"
     ]
    }
   ],
   "source": [
    "\"\"\"\n",
    "install dependencies\n",
    "\"\"\"\n",
    "#!pip install nltk"
   ]
  },
  {
   "cell_type": "code",
   "execution_count": 24,
   "metadata": {},
   "outputs": [],
   "source": [
    "\"\"\"\n",
    "Imports\n",
    "\"\"\"\n",
    "import pandas as pd\n",
    "import nltk\n",
    "from nltk import sent_tokenize, word_tokenize\n",
    "import re"
   ]
  },
  {
   "cell_type": "code",
   "execution_count": 28,
   "metadata": {},
   "outputs": [],
   "source": [
    "\"\"\"\n",
    "global variables\n",
    "\"\"\"\n",
    "infile='pp_clinical_note_sequenced.json'\n",
    "data=pd.read_json(infile)\n",
    "en_stop = set(nltk.corpus.stopwords.words('english'))\n",
    "df=pd.DataFrame()"
   ]
  },
  {
   "cell_type": "code",
   "execution_count": 33,
   "metadata": {},
   "outputs": [],
   "source": [
    "\"\"\"\n",
    "generate n-grams function\n",
    "\"\"\"\n",
    "def generate_ngrams(s, n):\n",
    "    # Convert to lowercases\n",
    "    s = s.lower()\n",
    "    \n",
    "    # Replace all none alphanumeric characters with spaces\n",
    "    s = re.sub(r'[^a-zA-Z0-9\\s]', ' ', s)\n",
    "    \n",
    "    # Break sentence in the token, remove empty tokens\n",
    "    tokens = [token for token in s.split(\" \") if token != \"\"]\n",
    "    tokens = [token for token in s.split(\" \") if len(token)>=3]\n",
    "    # Use the zip function to help us generate n-grams\n",
    "    # Concatentate the tokens into ngrams and return\n",
    "    ngrams = zip(*[tokens[i:] for i in range(n)])\n",
    "    return [\" \".join(ngram) for ngram in ngrams]"
   ]
  },
  {
   "cell_type": "code",
   "execution_count": 34,
   "metadata": {},
   "outputs": [],
   "source": [
    "\"\"\"\n",
    "feature engineering: pull out vitals\n",
    "\"\"\"\n",
    "all_vitals=[]\n",
    "non_vital=[]\n",
    "for record in data['tokens_in_record']:\n",
    "    \n",
    "    missing=[]\n",
    "    vitals=[]\n",
    "    \n",
    "    sentences=sent_tokenize(str(record))\n",
    "    \n",
    "    for line in sentences:\n",
    "       \n",
    "        if re.findall(r'temperature', str(line)): \n",
    "            junk, temp, keep=str(line).partition('temperature')\n",
    "            vital=temp+keep\n",
    "            vitals.append(vital)\n",
    "            missing.append('na')\n",
    "        if re.findall(r'blood pressure', str(line)):\n",
    "            junk, bp, keep=str(line).partition('blood pressure')\n",
    "            vital=bp+keep\n",
    "            vitals.append(vital)\n",
    "            missing.append('na')\n",
    "        if re.findall(r'breathing',str(line)):\n",
    "            junk, breath, keep=str(line).partition('breathing')\n",
    "            vital=breath+keep\n",
    "            vitals.append(vital)\n",
    "            missing.append('na')\n",
    "        if re.findall(r'respitory',str(line)):\n",
    "            junk, breath, keep=str(line).partition('respitory')\n",
    "            vital=breath+keep\n",
    "            vitals.append(vital)\n",
    "            missing.append('na')\n",
    "        \n",
    "        else:\n",
    "            \n",
    "            continue\n",
    "   \n",
    "    all_vitals.append(vitals)\n",
    "    non_vital.append(missing)\n",
    "    continue\n",
    "   \n",
    "data['non-vitals']=non_vital\n",
    "data['vitals']=all_vitals"
   ]
  },
  {
   "cell_type": "code",
   "execution_count": 37,
   "metadata": {},
   "outputs": [],
   "source": [
    "\"\"\"\n",
    "generate n-grams for df['vitals'] to further refine vitals and prep for topic modeling\n",
    "\"\"\"\n",
    "ngrams=[]\n",
    "for i, row in data.iterrows():\n",
    "    vitals=row['vitals']\n",
    "    clinical_ngrams=generate_ngrams(str(vitals),5)\n",
    "    ngrams.append(clinical_ngrams)\n",
    "\n",
    "data['clinical_ngrams']=ngrams"
   ]
  },
  {
   "cell_type": "code",
   "execution_count": 38,
   "metadata": {},
   "outputs": [],
   "source": [
    "\"\"\"\n",
    "turn ngrams into single 'words' by replacing \" \" with \"_\"\n",
    "\"\"\"\n",
    "clinical_ngrams_concat=[]\n",
    "for i, row in df.iterrows():\n",
    "    ngram_list=[]\n",
    "    ngrams=row['clinical_ngrams']\n",
    "    for n in ngrams:\n",
    "        n=str(n)\n",
    "        a=str(n).replace(\" \",\"_\")\n",
    "        ngram_list.append(a)\n",
    "        continue\n",
    "    clinical_ngrams_concat.append(ngram_list)\n",
    "    continue\n",
    "data['clinical_ngrams_concat']=clinical_ngrams_concat\n",
    "data['clinical_ngrams_concat']\n",
    "data.to_json(\"fe_vitals_related_added.json\")"
   ]
  }
 ],
 "metadata": {
  "kernelspec": {
   "display_name": "Python 3",
   "language": "python",
   "name": "python3"
  },
  "language_info": {
   "codemirror_mode": {
    "name": "ipython",
    "version": 3
   },
   "file_extension": ".py",
   "mimetype": "text/x-python",
   "name": "python",
   "nbconvert_exporter": "python",
   "pygments_lexer": "ipython3",
   "version": "3.7.3"
  }
 },
 "nbformat": 4,
 "nbformat_minor": 4
}
