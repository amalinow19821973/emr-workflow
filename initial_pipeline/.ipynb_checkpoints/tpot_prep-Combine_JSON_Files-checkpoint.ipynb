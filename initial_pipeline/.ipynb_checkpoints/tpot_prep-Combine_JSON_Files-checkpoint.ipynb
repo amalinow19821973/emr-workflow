{
 "cells": [
  {
   "cell_type": "code",
   "execution_count": null,
   "metadata": {},
   "outputs": [],
   "source": [
    "\"\"\"\n",
    "combines output from pre-processing, feature-engineering steps, and the target, into a single output that is used\n",
    "as the input for TPOT.\n",
    "\n",
    "NEED TO FIGURE OUT THE INDEXING STRATEGY FOR COMBINING JSON!!!!\n",
    "\n",
    "input: multiple json files with the same index\n",
    "output: .csv input file for tpot\n",
    "\n",
    "last updated: 2.4.20\n",
    "author: Andrew Malinow, PhD\n",
    "\"\"\""
   ]
  },
  {
   "cell_type": "code",
   "execution_count": 20,
   "metadata": {},
   "outputs": [],
   "source": [
    "\"\"\"\n",
    "imports\n",
    "\"\"\"\n",
    "import json\n",
    "import pandas as pd\n",
    "import glob"
   ]
  },
  {
   "cell_type": "code",
   "execution_count": 21,
   "metadata": {},
   "outputs": [],
   "source": [
    "\"\"\"\n",
    "read all json files and add to list\n",
    "nb: the following code reads all json located in the directory that this script is in\n",
    "\"\"\"\n",
    "result = []\n",
    "read_files = glob.glob(\"*.json\")"
   ]
  },
  {
   "cell_type": "code",
   "execution_count": 22,
   "metadata": {},
   "outputs": [],
   "source": [
    "combined_json=[]\n",
    "for l in read_files:\n",
    "    a= pd.read_json(l)\n",
    "    combined_json.append(a)"
   ]
  },
  {
   "cell_type": "code",
   "execution_count": 24,
   "metadata": {},
   "outputs": [],
   "source": [
    "result = pd.concat(combined_json, axis=1, sort=False)\n",
    "result.to_csv('TPOT_Input_File.csv', sep='|')"
   ]
  },
  {
   "cell_type": "code",
   "execution_count": null,
   "metadata": {},
   "outputs": [],
   "source": []
  }
 ],
 "metadata": {
  "kernelspec": {
   "display_name": "Python 3",
   "language": "python",
   "name": "python3"
  },
  "language_info": {
   "codemirror_mode": {
    "name": "ipython",
    "version": 3
   },
   "file_extension": ".py",
   "mimetype": "text/x-python",
   "name": "python",
   "nbconvert_exporter": "python",
   "pygments_lexer": "ipython3",
   "version": "3.7.3"
  }
 },
 "nbformat": 4,
 "nbformat_minor": 2
}
