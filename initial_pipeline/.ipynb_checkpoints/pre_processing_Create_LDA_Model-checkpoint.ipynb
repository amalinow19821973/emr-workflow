{
 "cells": [
  {
   "cell_type": "code",
   "execution_count": 513,
   "metadata": {},
   "outputs": [
    {
     "data": {
      "text/plain": [
       "'\\nAll-purpose Healthcare KPI Root-Cause Analysis Script\\nLast update: 09/24/19\\nAuthor:  Andrew Malinow, PhD\\n'"
      ]
     },
     "execution_count": 513,
     "metadata": {},
     "output_type": "execute_result"
    }
   ],
   "source": [
    "\"\"\"\n",
    "Reads tokenized EMR data and creates LDA Model\n",
    "input: tokenized EMR data (tokens.json)\n",
    "output: LDA model artifacts [saved to persistant volume]: corpora, dictionary, model, list of topics to potentially create features\n",
    "Last update: 1/22/20\n",
    "Author:  Andrew Malinow, PhD\n",
    "\"\"\""
   ]
  },
  {
   "cell_type": "code",
   "execution_count": 7,
   "metadata": {},
   "outputs": [],
   "source": [
    "\"\"\"\n",
    "Imports\n",
    "\"\"\"\n",
    "import pickle\n",
    "import requests\n",
    "import json\n",
    "import gensim\n",
    "from gensim.models import Word2Vec"
   ]
  },
  {
   "cell_type": "code",
   "execution_count": 4,
   "metadata": {},
   "outputs": [],
   "source": [
    "\"\"\"\n",
    "Global Variables\n",
    "\"\"\"\n",
    "resp = requests.get('http://10.32.22.16:56733/noteevents/55500')\n",
    "if resp.status_code != 200:\n",
    "        raise ApiError('GET /noteevents/<size> {}'.format(resp.status_code))\n",
    "json_notes=resp.json()['json_notes']\n",
    "notes_text = [note['text'] for note in json_notes]"
   ]
  },
  {
   "cell_type": "code",
   "execution_count": 8,
   "metadata": {},
   "outputs": [
    {
     "name": "stderr",
     "output_type": "stream",
     "text": [
      "C:\\Users\\amalinow\\AppData\\Local\\Continuum\\anaconda3\\lib\\site-packages\\smart_open\\smart_open_lib.py:402: UserWarning: This function is deprecated, use smart_open.open instead. See the migration notes for details: https://github.com/RaRe-Technologies/smart_open/blob/master/README.rst#migrating-to-the-new-open-function\n",
      "  'See the migration notes for details: %s' % _MIGRATION_NOTES_URL\n"
     ]
    }
   ],
   "source": [
    "\"\"\"\n",
    "create corpus, dictionary\n",
    "\"\"\"\n",
    "sentences=[d.split() for d in notes_text]\n",
    "dictionary = gensim.corpora.Dictionary(sentences)\n",
    "\n",
    "#create corpus \n",
    "corpus = [dictionary.doc2bow(text) for text in sentences]\n",
    "#save corpus and dictionary\n",
    "pickle.dump(corpus, open('default_corpus.pkl', 'wb'))\n",
    "dictionary.save('mimic.gensim')\n"
   ]
  },
  {
   "cell_type": "code",
   "execution_count": 9,
   "metadata": {},
   "outputs": [],
   "source": [
    "\"\"\"\n",
    "Use topic modeling to extract themes\n",
    "train and save an LDA model\n",
    "use num_topics parameter to determine the number of topics for the model,\n",
    "and num_words parameter for how much to show\n",
    "\"\"\"\n",
    "lda=gensim.models.LdaMulticore(corpus=corpus,num_topics=5,id2word=dictionary,passes=100,workers=7)\n",
    "lda.save(\"defaultLDA.model\")\n",
    "topics=lda.print_topics(num_words=10)"
   ]
  },
  {
   "cell_type": "code",
   "execution_count": null,
   "metadata": {},
   "outputs": [],
   "source": []
  }
 ],
 "metadata": {
  "kernelspec": {
   "display_name": "Python 3",
   "language": "python",
   "name": "python3"
  },
  "language_info": {
   "codemirror_mode": {
    "name": "ipython",
    "version": 3
   },
   "file_extension": ".py",
   "mimetype": "text/x-python",
   "name": "python",
   "nbconvert_exporter": "python",
   "pygments_lexer": "ipython3",
   "version": "3.7.3"
  }
 },
 "nbformat": 4,
 "nbformat_minor": 4
}
