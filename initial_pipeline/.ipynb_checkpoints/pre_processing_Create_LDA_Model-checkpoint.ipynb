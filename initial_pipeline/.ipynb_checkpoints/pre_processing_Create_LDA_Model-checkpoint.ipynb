{
 "cells": [
  {
   "cell_type": "code",
   "execution_count": 513,
   "metadata": {},
   "outputs": [
    {
     "data": {
      "text/plain": [
       "'\\nAll-purpose Healthcare KPI Root-Cause Analysis Script\\nLast update: 09/24/19\\nAuthor:  Andrew Malinow, PhD\\n'"
      ]
     },
     "execution_count": 513,
     "metadata": {},
     "output_type": "execute_result"
    }
   ],
   "source": [
    "\"\"\"\n",
    "Reads tokenized EMR data and creates Word2Vec Model\n",
    "input: tokenized EMR data (tokens.json)\n",
    "output: word2vec model artifacts [saved to persistant volume]: corpora, dictionary, embeddings (.model file)\n",
    "Last update: 1/22/20\n",
    "Author:  Andrew Malinow, PhD\n",
    "\"\"\""
   ]
  },
  {
   "cell_type": "code",
   "execution_count": 2,
   "metadata": {},
   "outputs": [],
   "source": [
    "\"\"\"\n",
    "Imports\n",
    "\"\"\"\n",
    "import json\n",
    "import gensim\n",
    "from gensim.models import Word2Vec"
   ]
  },
  {
   "cell_type": "code",
   "execution_count": 4,
   "metadata": {},
   "outputs": [],
   "source": [
    "\"\"\"\n",
    "Global Variables\n",
    "\"\"\"\n",
    "with open('tokens.json') as f:\n",
    "    data = json.load(f)"
   ]
  },
  {
   "cell_type": "code",
   "execution_count": null,
   "metadata": {},
   "outputs": [
    {
     "name": "stderr",
     "output_type": "stream",
     "text": [
      "C:\\Users\\amalinow\\AppData\\Local\\Continuum\\anaconda3\\lib\\site-packages\\gensim\\models\\base_any2vec.py:743: UserWarning: C extension not loaded, training will be slow. Install a C compiler and reinstall gensim for fast training.\n",
      "  \"C extension not loaded, training will be slow. \"\n"
     ]
    }
   ],
   "source": [
    "\"\"\"\n",
    "create word2vec model\n",
    "need to tune parameters\n",
    "\"\"\"\n",
    "model = Word2Vec(data, min_count=2,workers=4)\n",
    "word_vectors=model.wv\n",
    "vocabulary=model.wv.vocab  \n",
    "sepsis_sim_words=model.wv.most_similar(\"sepsis\")\n",
    "readmit_sim_words=model.wv.most_similar(\"readmission\")"
   ]
  },
  {
   "cell_type": "code",
   "execution_count": null,
   "metadata": {},
   "outputs": [],
   "source": [
    "\"\"\"\n",
    "save model, and word vectors\n",
    "\"\"\"\n",
    "model.save('word2vec.model')\n",
    "model.save_word2vec_format('word2vecKeyVectors.model',binary=True)"
   ]
  },
  {
   "cell_type": "code",
   "execution_count": null,
   "metadata": {},
   "outputs": [],
   "source": [
    "\"\"\"\n",
    "write out similar terms [\"sepsis\" and \"readmission\"] to separate files\n",
    "these terms will be turned into features- e.g., sepsis_term_1 (0/1/); sepsis_term_2 (0/1)\n",
    "\"\"\"\n",
    "with open ('sepsis_related_terms.json','wb') as f:\n",
    "    json.dumps(sepsis_sim_words,f)\n",
    "\n",
    "with open ('readmission_related_terms.json','wb') as f:\n",
    "    json.dumps(readmit_sim_words,f)"
   ]
  }
 ],
 "metadata": {
  "kernelspec": {
   "display_name": "Python 3",
   "language": "python",
   "name": "python3"
  },
  "language_info": {
   "codemirror_mode": {
    "name": "ipython",
    "version": 3
   },
   "file_extension": ".py",
   "mimetype": "text/x-python",
   "name": "python",
   "nbconvert_exporter": "python",
   "pygments_lexer": "ipython3",
   "version": "3.7.3"
  }
 },
 "nbformat": 4,
 "nbformat_minor": 4
}
