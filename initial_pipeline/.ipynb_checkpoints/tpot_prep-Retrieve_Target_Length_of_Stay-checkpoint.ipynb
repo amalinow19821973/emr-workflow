{
 "cells": [
  {
   "cell_type": "code",
   "execution_count": null,
   "metadata": {},
   "outputs": [],
   "source": [
    "\"\"\"\n",
    "creates 'target' variable from lenght of stay (pre-calculated)\n",
    "input: index, los[length of stay] fields\n",
    "output: index, target[los] as json\n",
    "last updated: 2.4.20\n",
    "author: Andrew Malinow, PhD\n",
    "\"\"\""
   ]
  },
  {
   "cell_type": "code",
   "execution_count": 41,
   "metadata": {},
   "outputs": [],
   "source": [
    "\"\"\"\n",
    "imports\n",
    "\"\"\"\n",
    "import requests\n",
    "import json\n",
    "import pandas as pd"
   ]
  },
  {
   "cell_type": "code",
   "execution_count": 42,
   "metadata": {},
   "outputs": [],
   "source": [
    "\"\"\"\n",
    "retrieve data\n",
    "\"\"\"\n",
    "json_count=requests.get('http://10.32.22.16:56733/noteeventscount').json()\n",
    "count = json_count['note_count']\n",
    "page_count = math.ceil(count/100000)\n",
    "all_admissions = []\n",
    "for i in range(page_count):\n",
    "    resp = requests.get('http://10.32.22.16:56733/admissions/los/page/'+str(i+1))\n",
    "    admissions = resp.json()['json_admissions']\n",
    "    all_admissions += admissions"
   ]
  },
  {
   "cell_type": "code",
   "execution_count": 43,
   "metadata": {},
   "outputs": [],
   "source": [
    "\"\"\"\n",
    "create dataframe from response, create 'target' variable\n",
    "\"\"\"\n",
    "\n",
    "df=pd.DataFrame(all_admissions)\n",
    "target=[]\n",
    "for i, row in df.iterrows():\n",
    "    los=row['los']\n",
    "    days=los['days']\n",
    "    target.append(days)\n",
    "df['target']=target"
   ]
  },
  {
   "cell_type": "code",
   "execution_count": 44,
   "metadata": {},
   "outputs": [],
   "source": [
    "\"\"\"\n",
    "drop unnecessary columns (not needed for tpot)\n",
    "write output to json\n",
    "\"\"\"\n",
    "del df['los']\n",
    "del df['admittime']\n",
    "del df['dischtime']\n",
    "\n",
    "df.to_json('tpot_prep_target__los_added.json')"
   ]
  }
 ],
 "metadata": {
  "kernelspec": {
   "display_name": "Python 3",
   "language": "python",
   "name": "python3"
  },
  "language_info": {
   "codemirror_mode": {
    "name": "ipython",
    "version": 3
   },
   "file_extension": ".py",
   "mimetype": "text/x-python",
   "name": "python",
   "nbconvert_exporter": "python",
   "pygments_lexer": "ipython3",
   "version": "3.7.3"
  }
 },
 "nbformat": 4,
 "nbformat_minor": 2
}
